{
 "cells": [
  {
   "cell_type": "markdown",
   "metadata": {},
   "source": [
    "# Problem Set 2 CS174\n",
    "---\n",
    "The following problem set will focus on the lessons on Numpy and advanced Python functions. Answer the following guide questions by writing functions or code in cells that accomplish the requirements.\n",
    "\n",
    "1. Create a function that takes in 3 parameters (integer n, integer a, integer b), and generates an nxn numpy matrix with random values from the range a to b inclusive. **2 pts.**\n",
    "\n",
    "2. Present a count plot of the top 20 occurring words in **data/networks.txt**. Use the stopword file **data/stop.txt** to filter out the stopwords **2 pts.**\n",
    "\n",
    "3. Using **data/ateneo.txt** and **data/tl-en.txt**, convert the phrases into straight english phrases. Leave words with no translation be. **6 pts.**\n",
    "\n",
    "4. Using **data/tl-en.txt**, create a one-to-one English to Filipino translation of your favorite English song. Develop functions to handle pluralities, and multiple entry results. Discuss your code and please put at least 1-liner docs for the functions. **10 pts.**\n",
    "       \n",
    "### Bonus:\n",
    "Repeat #4 but do a Filipino to English translation of your favorite Filipno song. Same specs apply. **5 pts.**"
   ]
  },
  {
   "cell_type": "markdown",
   "metadata": {},
   "source": [
    "# 1. nxn numpy matrix"
   ]
  },
  {
   "cell_type": "code",
   "execution_count": 15,
   "metadata": {},
   "outputs": [],
   "source": [
    "import numpy as np"
   ]
  },
  {
   "cell_type": "code",
   "execution_count": 16,
   "metadata": {},
   "outputs": [
    {
     "data": {
      "text/plain": [
       "array([[594, 613, 189],\n",
       "       [105, 650, 132],\n",
       "       [342, 158, 972]])"
      ]
     },
     "execution_count": 16,
     "metadata": {},
     "output_type": "execute_result"
    }
   ],
   "source": [
    "def generate_matrix(n, a, b):\n",
    "    matrix = np.random.randint(a, b, size=(n, n))\n",
    "    return matrix\n",
    "\n",
    "generate_matrix(3, 1, 1000)"
   ]
  },
  {
   "cell_type": "markdown",
   "metadata": {},
   "source": [
    "# 2. Count Plot of Top 20 Occurring Words"
   ]
  },
  {
   "cell_type": "code",
   "execution_count": 55,
   "metadata": {},
   "outputs": [],
   "source": [
    "f_networks = open(\"data/networks.txt\", \"r\")\n",
    "networks = f_networks.read()\n",
    "\n",
    "f_stop = open(\"data/stop.txt\", \"r\")\n",
    "stop = f_stop.read()"
   ]
  },
  {
   "cell_type": "code",
   "execution_count": 72,
   "metadata": {},
   "outputs": [],
   "source": [
    "lines = stop.split('\\n')\n",
    "stop_lines = []\n",
    "\n",
    "# There are some words which don't have closing apostrophes, so we programmatically add them here\n",
    "for line in lines:\n",
    "    curr_line = line\n",
    "    if ',' in line:\n",
    "        if line[0] == \"\\'\" and line[-2] != \"\\'\":\n",
    "            curr_line = line[:-1] + \"\\',\"\n",
    "        elif line[0] == \"\\\"\" and line[-2] != \"\\\"\":\n",
    "            curr_line = line[:-1] + \"\\\",\"\n",
    "    stop_lines.append(curr_line)\n",
    "\n",
    "stopwords = [word[1:-2] if count != len(stop_lines)-1 else word[1:-1] \n",
    "             for count, word in enumerate(stop_lines)]"
   ]
  },
  {
   "cell_type": "code",
   "execution_count": 74,
   "metadata": {},
   "outputs": [
    {
     "data": {
      "text/plain": [
       "180"
      ]
     },
     "execution_count": 74,
     "metadata": {},
     "output_type": "execute_result"
    }
   ],
   "source": [
    "len(stopwords)"
   ]
  },
  {
   "cell_type": "code",
   "execution_count": 75,
   "metadata": {},
   "outputs": [],
   "source": [
    "import re\n",
    "\n",
    "# Removed non-alphanumeric chars EXCEPT apostrophes that follow a letter (so as to include contractions)\n",
    "words = [re.sub(r'\\W+$', '', word).lower() for word in networks.split(' ')]\n",
    "words = [word for word in words if word not in stopwords]"
   ]
  },
  {
   "cell_type": "code",
   "execution_count": 76,
   "metadata": {},
   "outputs": [
    {
     "data": {
      "text/plain": [
       "640"
      ]
     },
     "execution_count": 76,
     "metadata": {},
     "output_type": "execute_result"
    }
   ],
   "source": [
    "len(words)"
   ]
  },
  {
   "cell_type": "code",
   "execution_count": 77,
   "metadata": {},
   "outputs": [
    {
     "data": {
      "text/plain": [
       "[('to', 56),\n",
       " ('network', 18),\n",
       " ('computers', 8),\n",
       " ('file', 8),\n",
       " ('going', 7),\n",
       " ('you', 7),\n",
       " ('problems', 7),\n",
       " ('never', 6),\n",
       " ('time', 6),\n",
       " ('companies', 6),\n",
       " ('system', 6),\n",
       " ('access', 6),\n",
       " ('files', 6),\n",
       " ('also', 6),\n",
       " ('one', 5),\n",
       " ('however', 5),\n",
       " ('technology', 5),\n",
       " ('speeds', 5),\n",
       " ('saved', 5),\n",
       " ('costs', 4)]"
      ]
     },
     "execution_count": 77,
     "metadata": {},
     "output_type": "execute_result"
    }
   ],
   "source": [
    "from collections import Counter\n",
    "\n",
    "cnt = Counter(words)\n",
    "top20 = cnt.most_common()[:20]\n",
    "top20\n",
    "\n",
    "# Source: https://stackoverflow.com/questions/4088265/sorted-word-frequency-count-using-python"
   ]
  },
  {
   "cell_type": "code",
   "execution_count": 32,
   "metadata": {},
   "outputs": [
    {
     "data": {
      "text/plain": [
       "<BarContainer object of 20 artists>"
      ]
     },
     "execution_count": 32,
     "metadata": {},
     "output_type": "execute_result"
    },
    {
     "data": {
      "image/png": "[encoded data removed]",
      "text/plain": [
       "<Figure size 432x288 with 1 Axes>"
      ]
     },
     "metadata": {
      "needs_background": "light"
     },
     "output_type": "display_data"
    }
   ],
   "source": [
    "import matplotlib.pyplot as plt\n",
    "import pandas as pd\n",
    "\n",
    "f, ax = plt.subplots()\n",
    "plt.yticks(range(len(top20)), list([curr[0] for curr in top20]))\n",
    "plt.ylim(-1, len(top20))\n",
    "plt.barh(range(len(top20)), list([curr[1] for curr in top20]), align='center')"
   ]
  },
  {
   "cell_type": "markdown",
   "metadata": {},
   "source": [
    "# 3. Ateneo Translations"
   ]
  },
  {
   "cell_type": "code",
   "execution_count": 40,
   "metadata": {},
   "outputs": [],
   "source": [
    "ateneo = open(\"data/ateneo.txt\", \"r\").read()\n",
    "translation = open(\"data/tl-en.txt\", \"r\").read()\n",
    "\n",
    "ateneo_lines = ateneo.split('\\n')\n",
    "\n",
    "# For the sake of simplicity of code, I used a dict function that converts the zip object to a dictionary. \n",
    "# dict only takes the LAST occurrence/translation of the key if there are multiple translations. I opted\n",
    "# to go with this as mapping the meanings of the translations to the words would be too complex at this point.\n",
    "translations = dict(zip([line.split('\\t')[0] for line in translation.split('\\n')[:-1]], \n",
    "                   [line.split('\\t')[1] for line in translation.split('\\n')[:-1]]))"
   ]
  },
  {
   "cell_type": "code",
   "execution_count": 47,
   "metadata": {},
   "outputs": [],
   "source": [
    "def clean_word(word):\n",
    "#   Remove non-alphanumeric characters that are at the start or the end of the word\n",
    "    return re.sub(r'\\B\\W+\\b|\\b\\W+\\B', '', word).lower()"
   ]
  },
  {
   "cell_type": "code",
   "execution_count": 48,
   "metadata": {},
   "outputs": [
    {
     "data": {
      "text/plain": [
       "[\"manong to only d'yan sa have side\",\n",
       " 'mej hassle naman this rain',\n",
       " 'what bro katip later g',\n",
       " \"wait i'm like gonna dinner only with the fambam\",\n",
       " 'which car am i gonna take today so',\n",
       " \"don't make stitch sa fishball first it's not cuisine yet\",\n",
       " 'brother much po yung neon balls',\n",
       " 'pweds ka ba later',\n",
       " \"ugh there's no parking space pa eh i'm late na nga\",\n",
       " \"it's like super intense really as in extreme\",\n",
       " \"i'll make goodbye pa you know naman my dad is strict eh\",\n",
       " \"you're like so duration ha\",\n",
       " 'make it fast only ha',\n",
       " \"what's wrong with being conyo ba\"]"
      ]
     },
     "execution_count": 48,
     "metadata": {},
     "output_type": "execute_result"
    }
   ],
   "source": [
    "trans_phrases = [' '.join([clean_word(word) if clean_word(word) not in translations \n",
    "                           else translations[clean_word(word)] for word in line.split()]) for line in ateneo_lines]\n",
    "\n",
    "trans_phrases"
   ]
  },
  {
   "cell_type": "markdown",
   "metadata": {},
   "source": [
    "# 4. English Song to Filipino"
   ]
  },
  {
   "cell_type": "code",
   "execution_count": 49,
   "metadata": {},
   "outputs": [],
   "source": [
    "# So Close by Jon McLaughlin\n",
    "so_close = \"\"\"You're in my arms\n",
    "And all the world is gone\n",
    "The music playing on\n",
    "For only two\n",
    "So close together\n",
    "And when I'm with you\n",
    "So close to feeling alive\n",
    "A life goes by\n",
    "Romantic dreams must die\n",
    "So I bid mine goodbye\n",
    "And never knew\n",
    "So close was waiting, waiting here with you\n",
    "And now forever I know...\n",
    "All that I want is to hold you so close\n",
    "So close to reaching that famous happy end\n",
    "Almost believing this one's not pretend\n",
    "And now you're beside me, and look how far we've come\n",
    "So far, we are so close\n",
    "Oh how could I face the faceless days\n",
    "If I should lose you now?\n",
    "We're so close to reaching that famous happy end\n",
    "Almost believing this one's not pretend\n",
    "Let's go on dreaming, though we know we are\n",
    "So close, so close, and still so far\"\"\""
   ]
  },
  {
   "cell_type": "code",
   "execution_count": 80,
   "metadata": {},
   "outputs": [],
   "source": [
    "from pattern.text.en import singularize\n",
    "import re\n",
    "\n",
    "# Make word singular using the imported singularize method\n",
    "def singularize_word(word):\n",
    "    return singularize(word)\n",
    "\n",
    "# Remove punctuation at start and end of each word and make lowercase a given line\n",
    "# I kept the contractions by not removing the apostrophes that follow a letter\n",
    "def clean_line(line):\n",
    "    words = [re.sub(r'\\B\\W+\\b|\\b\\W+\\B', '', word).lower() for word in line.split()]\n",
    "    return ' '.join(words)\n",
    "\n",
    "# Source: https://stackoverflow.com/questions/31387905/converting-plural-to-singular-in-a-text-file-with-python"
   ]
  },
  {
   "cell_type": "code",
   "execution_count": 81,
   "metadata": {},
   "outputs": [],
   "source": [
    "translation = open(\"data/tl-en.txt\", \"r\").read()\n",
    "\n",
    "# English to Filipino translations\n",
    "\n",
    "# Same as above, I only got the last occurrence of the translation for the sake of code simplicity,\n",
    "# given that the dict method only gets the last occurrence\n",
    "fil_translations = dict(zip([line.split('\\t')[1] for line in translation.split('\\n')[:-1]], \n",
    "                   [line.split('\\t')[0] for line in translation.split('\\n')[:-1]]))"
   ]
  },
  {
   "cell_type": "code",
   "execution_count": 82,
   "metadata": {},
   "outputs": [
    {
     "data": {
      "text/plain": [
       "[\"you're nasa my bisig\",\n",
       " 'and puro yung mundo is gone',\n",
       " 'yung tugtog paglalaro noong',\n",
       " 'for lang two',\n",
       " 'kaya isara magkasama',\n",
       " \"and kailan i'm kay ikaw\",\n",
       " 'kaya isara kay feeling buhay',\n",
       " 'a buhay pumunta by',\n",
       " 'romantiko pinapangarap dapat mamamatay',\n",
       " 'kaya i bid mine paalam',\n",
       " 'and never alam',\n",
       " 'kaya isara wa waiting waiting nandito kay ikaw',\n",
       " 'and ngayon magpakailanman i alam',\n",
       " 'puro yan i gustong is kay hold ikaw kaya isara',\n",
       " 'kaya isara kay naaabot yan famou masaya tapusin',\n",
       " \"halos mananampalataya thi one' hinde pretend\",\n",
       " \"and ngayon you're katabi me and tumingin pano kalayo we've lumapit\",\n",
       " 'kaya kalayo kami are kaya isara',\n",
       " 'oh pano could i mukha yung faceles araw',\n",
       " 'kung i dapat mawawalan ikaw ngayon',\n",
       " \"we're kaya isara kay naaabot yan famou masaya tapusin\",\n",
       " \"halos mananampalataya thi one' hinde pretend\",\n",
       " \"let' pumunta noong nananaginip though kami alam kami are\",\n",
       " 'kaya isara kaya isara and parin kaya kalayo']"
      ]
     },
     "execution_count": 82,
     "metadata": {},
     "output_type": "execute_result"
    }
   ],
   "source": [
    "so_close_lines = so_close.split('\\n')\n",
    "translated_lines = [' '.join([singularize_word(word) if singularize_word(word) not in fil_translations else\n",
    "                              fil_translations[singularize_word(word)] for word in clean_line(line).split()]) \n",
    "                    for line in so_close_lines]\n",
    "\n",
    "# Kaya Isara ni Jon McLaughlin\n",
    "translated_lines"
   ]
  },
  {
   "cell_type": "markdown",
   "metadata": {},
   "source": [
    "# Bonus: Filipino to English Translation"
   ]
  },
  {
   "cell_type": "code",
   "execution_count": 83,
   "metadata": {},
   "outputs": [],
   "source": [
    "# Pagtingin by Ben&Ben\n",
    "song = \"\"\"Dami pang gustong sabihin\n",
    "Ngunit 'wag nalang muna\n",
    "Hintayin nalang ang hangin\n",
    "Tangayin ang salita\n",
    "'Wag mo akong sisihin\n",
    "Mahirap ang tumaya\n",
    "Dagat ay sisisirin\n",
    "Kahit walang mapala\n",
    "Pag nilahad ang damdamin\n",
    "Sana di magbago ang pagtingin\n",
    "Aminin ang mga lihim\n",
    "Sana di magbago ang pagtingin\n",
    "Bakit laging ganito?\n",
    "Kailangan magka-ilangan\n",
    "Ako ay nalilito\n",
    "Hmm... hmm...\n",
    "'Wag mo akong sisihin\n",
    "Mahirap ang tumaya\n",
    "Dagat ay sisisirin\n",
    "Kahit walang mapala\n",
    "Pag nilahad ang damdamin\n",
    "Sana di magbago ang pagtingin\n",
    "Aminin ang mga lihim\n",
    "Sana di magbago ang pagtingin\n",
    "Pahiwatig\n",
    "Sana di magbago ang pagtingin\n",
    "Pahiwatig\n",
    "Sana di magbago ang pagtingin\n",
    "Iibig lang kapag handa na\n",
    "Hindi nalang kung trip trip lang naman\n",
    "Iibig lang kapag handa na\n",
    "Hindi nalang kung trip trip lang naman\n",
    "Pag nilahad ang damdamin\n",
    "Sana di magbago ang pagtingin\n",
    "Aminin ang mga lihim\n",
    "Sana di magbago ang pagtingin\n",
    "Subukan ang manalangin\n",
    "Sana di magbago ang pagtingin\n",
    "Baka bukas ika'y akin\n",
    "Sana di magbago ang pagtingin\n",
    "Pahiwatig\n",
    "Sana di magbago ang pagtingin\n",
    "Pahiwatig\n",
    "Sana di magbago ang pagtingin\"\"\""
   ]
  },
  {
   "cell_type": "code",
   "execution_count": 84,
   "metadata": {},
   "outputs": [],
   "source": [
    "from pattern.text.en import singularize\n",
    "import re\n",
    "\n",
    "# Remove punctuation and make lowercase a given line\n",
    "def clean_line(line):\n",
    "    words = [re.sub(r'\\W+', '', word).lower() for word in line.split()]\n",
    "    return ' '.join(words)\n",
    "\n",
    "# Source: https://stackoverflow.com/questions/31387905/converting-plural-to-singular-in-a-text-file-with-python"
   ]
  },
  {
   "cell_type": "code",
   "execution_count": 85,
   "metadata": {},
   "outputs": [],
   "source": [
    "translation = open(\"data/tl-en.txt\", \"r\").read()\n",
    "\n",
    "# Filipino to English translations\n",
    "# Same as above with regards to getting the last occurrence only\n",
    "eng_translations = dict(zip([line.split('\\t')[0] for line in translation.split('\\n')[:-1]], \n",
    "                   [line.split('\\t')[1] for line in translation.split('\\n')[:-1]]))"
   ]
  },
  {
   "cell_type": "code",
   "execution_count": 86,
   "metadata": {},
   "outputs": [
    {
     "data": {
      "text/plain": [
       "['quantity more want sabihin',\n",
       " 'but wag just first',\n",
       " 'hintayin just the air',\n",
       " 'tangayin the words',\n",
       " 'wag mo akong blame',\n",
       " 'difficult the tumaya',\n",
       " 'sea ay sisisirin',\n",
       " 'even no mapala',\n",
       " 'pag nilahad the feelings',\n",
       " 'hope di magbago the views',\n",
       " 'admit the the secret',\n",
       " 'hope di magbago the views',\n",
       " 'why always ganito',\n",
       " 'required magkailangan',\n",
       " 'ako ay puzzled',\n",
       " 'hmm hmm',\n",
       " 'wag mo akong blame',\n",
       " 'difficult the tumaya',\n",
       " 'sea ay sisisirin',\n",
       " 'even no mapala',\n",
       " 'pag nilahad the feelings',\n",
       " 'hope di magbago the views',\n",
       " 'admit the the secret',\n",
       " 'hope di magbago the views',\n",
       " 'hints',\n",
       " 'hope di magbago the views',\n",
       " 'hints',\n",
       " 'hope di magbago the views',\n",
       " 'iibig only once prepared na',\n",
       " 'not just if trip trip only naman',\n",
       " 'iibig only once prepared na',\n",
       " 'not just if trip trip only naman',\n",
       " 'pag nilahad the feelings',\n",
       " 'hope di magbago the views',\n",
       " 'admit the the secret',\n",
       " 'hope di magbago the views',\n",
       " 'test the manalangin',\n",
       " 'hope di magbago the views',\n",
       " 'baka tomorrow ikay mine',\n",
       " 'hope di magbago the views',\n",
       " 'hints',\n",
       " 'hope di magbago the views',\n",
       " 'hints',\n",
       " 'hope di magbago the views']"
      ]
     },
     "execution_count": 86,
     "metadata": {},
     "output_type": "execute_result"
    }
   ],
   "source": [
    "song_lines = song.split('\\n')\n",
    "translated_lines = [' '.join([word if word not in eng_translations else\n",
    "                              eng_translations[word] for word in clean_line(line).split()]) \n",
    "                    for line in song_lines]\n",
    "\n",
    "# The Views by Ben&Ben\n",
    "translated_lines"
   ]
  },
  {
   "cell_type": "markdown",
   "metadata": {},
   "source": [
    "Deadline **Feb 20 11:59PM**. Submission link to be posted in Moodle. \n",
    "Submit the .ipynb file only with name <SURNAME>_<ID NUMBER>.ipynb. \n",
    "    \n",
    "Sample: **\"BAUTISTA_110464.ipynb\"**"
   ]
  }
 ],
 "metadata": {
  "kernelspec": {
   "display_name": "Python 3",
   "language": "python",
   "name": "python3"
  },
  "language_info": {
   "codemirror_mode": {
    "name": "ipython",
    "version": 3
   },
   "file_extension": ".py",
   "mimetype": "text/x-python",
   "name": "python",
   "nbconvert_exporter": "python",
   "pygments_lexer": "ipython3",
   "version": "3.7.6"
  }
 },
 "nbformat": 4,
 "nbformat_minor": 4
}
